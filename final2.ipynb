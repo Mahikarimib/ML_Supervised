{
  "cells": [
    {
      "cell_type": "markdown",
      "metadata": {
        "id": "view-in-github",
        "colab_type": "text"
      },
      "source": [
        "<a href=\"https://colab.research.google.com/github/Mahikarimib/Machine-Learning-/blob/main/final2.ipynb\" target=\"_parent\"><img src=\"https://colab.research.google.com/assets/colab-badge.svg\" alt=\"Open In Colab\"/></a>"
      ]
    },
    {
      "cell_type": "code",
      "execution_count": 28,
      "metadata": {
        "id": "nv0_ZM6pgc2q"
      },
      "outputs": [],
      "source": [
        "import  pandas as  pd"
      ]
    },
    {
      "cell_type": "code",
      "execution_count": 29,
      "metadata": {
        "colab": {
          "base_uri": "https://localhost:8080/",
          "height": 244
        },
        "id": "w4Vv27v4gc21",
        "outputId": "7f5aba00-3d5c-4d4b-9231-4980517eab03"
      },
      "outputs": [
        {
          "output_type": "stream",
          "name": "stdout",
          "text": [
            "Drive already mounted at /content/gdrive; to attempt to forcibly remount, call drive.mount(\"/content/gdrive\", force_remount=True).\n"
          ]
        },
        {
          "output_type": "execute_result",
          "data": {
            "text/plain": [
              "   F1  F2   F3  F4  target\n",
              "0  a1  10   50  12       1\n",
              "1  a2  12  110  11       1\n",
              "2  a3  13   90  12       1\n",
              "3  a4  86   35   7       1\n",
              "4  a5  10   70   9       1"
            ],
            "text/html": [
              "\n",
              "  <div id=\"df-8c9f82b1-af7f-4f88-860b-59b72103fcf1\">\n",
              "    <div class=\"colab-df-container\">\n",
              "      <div>\n",
              "<style scoped>\n",
              "    .dataframe tbody tr th:only-of-type {\n",
              "        vertical-align: middle;\n",
              "    }\n",
              "\n",
              "    .dataframe tbody tr th {\n",
              "        vertical-align: top;\n",
              "    }\n",
              "\n",
              "    .dataframe thead th {\n",
              "        text-align: right;\n",
              "    }\n",
              "</style>\n",
              "<table border=\"1\" class=\"dataframe\">\n",
              "  <thead>\n",
              "    <tr style=\"text-align: right;\">\n",
              "      <th></th>\n",
              "      <th>F1</th>\n",
              "      <th>F2</th>\n",
              "      <th>F3</th>\n",
              "      <th>F4</th>\n",
              "      <th>target</th>\n",
              "    </tr>\n",
              "  </thead>\n",
              "  <tbody>\n",
              "    <tr>\n",
              "      <th>0</th>\n",
              "      <td>a1</td>\n",
              "      <td>10</td>\n",
              "      <td>50</td>\n",
              "      <td>12</td>\n",
              "      <td>1</td>\n",
              "    </tr>\n",
              "    <tr>\n",
              "      <th>1</th>\n",
              "      <td>a2</td>\n",
              "      <td>12</td>\n",
              "      <td>110</td>\n",
              "      <td>11</td>\n",
              "      <td>1</td>\n",
              "    </tr>\n",
              "    <tr>\n",
              "      <th>2</th>\n",
              "      <td>a3</td>\n",
              "      <td>13</td>\n",
              "      <td>90</td>\n",
              "      <td>12</td>\n",
              "      <td>1</td>\n",
              "    </tr>\n",
              "    <tr>\n",
              "      <th>3</th>\n",
              "      <td>a4</td>\n",
              "      <td>86</td>\n",
              "      <td>35</td>\n",
              "      <td>7</td>\n",
              "      <td>1</td>\n",
              "    </tr>\n",
              "    <tr>\n",
              "      <th>4</th>\n",
              "      <td>a5</td>\n",
              "      <td>10</td>\n",
              "      <td>70</td>\n",
              "      <td>9</td>\n",
              "      <td>1</td>\n",
              "    </tr>\n",
              "  </tbody>\n",
              "</table>\n",
              "</div>\n",
              "      <button class=\"colab-df-convert\" onclick=\"convertToInteractive('df-8c9f82b1-af7f-4f88-860b-59b72103fcf1')\"\n",
              "              title=\"Convert this dataframe to an interactive table.\"\n",
              "              style=\"display:none;\">\n",
              "        \n",
              "  <svg xmlns=\"http://www.w3.org/2000/svg\" height=\"24px\"viewBox=\"0 0 24 24\"\n",
              "       width=\"24px\">\n",
              "    <path d=\"M0 0h24v24H0V0z\" fill=\"none\"/>\n",
              "    <path d=\"M18.56 5.44l.94 2.06.94-2.06 2.06-.94-2.06-.94-.94-2.06-.94 2.06-2.06.94zm-11 1L8.5 8.5l.94-2.06 2.06-.94-2.06-.94L8.5 2.5l-.94 2.06-2.06.94zm10 10l.94 2.06.94-2.06 2.06-.94-2.06-.94-.94-2.06-.94 2.06-2.06.94z\"/><path d=\"M17.41 7.96l-1.37-1.37c-.4-.4-.92-.59-1.43-.59-.52 0-1.04.2-1.43.59L10.3 9.45l-7.72 7.72c-.78.78-.78 2.05 0 2.83L4 21.41c.39.39.9.59 1.41.59.51 0 1.02-.2 1.41-.59l7.78-7.78 2.81-2.81c.8-.78.8-2.07 0-2.86zM5.41 20L4 18.59l7.72-7.72 1.47 1.35L5.41 20z\"/>\n",
              "  </svg>\n",
              "      </button>\n",
              "      \n",
              "  <style>\n",
              "    .colab-df-container {\n",
              "      display:flex;\n",
              "      flex-wrap:wrap;\n",
              "      gap: 12px;\n",
              "    }\n",
              "\n",
              "    .colab-df-convert {\n",
              "      background-color: #E8F0FE;\n",
              "      border: none;\n",
              "      border-radius: 50%;\n",
              "      cursor: pointer;\n",
              "      display: none;\n",
              "      fill: #1967D2;\n",
              "      height: 32px;\n",
              "      padding: 0 0 0 0;\n",
              "      width: 32px;\n",
              "    }\n",
              "\n",
              "    .colab-df-convert:hover {\n",
              "      background-color: #E2EBFA;\n",
              "      box-shadow: 0px 1px 2px rgba(60, 64, 67, 0.3), 0px 1px 3px 1px rgba(60, 64, 67, 0.15);\n",
              "      fill: #174EA6;\n",
              "    }\n",
              "\n",
              "    [theme=dark] .colab-df-convert {\n",
              "      background-color: #3B4455;\n",
              "      fill: #D2E3FC;\n",
              "    }\n",
              "\n",
              "    [theme=dark] .colab-df-convert:hover {\n",
              "      background-color: #434B5C;\n",
              "      box-shadow: 0px 1px 3px 1px rgba(0, 0, 0, 0.15);\n",
              "      filter: drop-shadow(0px 1px 2px rgba(0, 0, 0, 0.3));\n",
              "      fill: #FFFFFF;\n",
              "    }\n",
              "  </style>\n",
              "\n",
              "      <script>\n",
              "        const buttonEl =\n",
              "          document.querySelector('#df-8c9f82b1-af7f-4f88-860b-59b72103fcf1 button.colab-df-convert');\n",
              "        buttonEl.style.display =\n",
              "          google.colab.kernel.accessAllowed ? 'block' : 'none';\n",
              "\n",
              "        async function convertToInteractive(key) {\n",
              "          const element = document.querySelector('#df-8c9f82b1-af7f-4f88-860b-59b72103fcf1');\n",
              "          const dataTable =\n",
              "            await google.colab.kernel.invokeFunction('convertToInteractive',\n",
              "                                                     [key], {});\n",
              "          if (!dataTable) return;\n",
              "\n",
              "          const docLinkHtml = 'Like what you see? Visit the ' +\n",
              "            '<a target=\"_blank\" href=https://colab.research.google.com/notebooks/data_table.ipynb>data table notebook</a>'\n",
              "            + ' to learn more about interactive tables.';\n",
              "          element.innerHTML = '';\n",
              "          dataTable['output_type'] = 'display_data';\n",
              "          await google.colab.output.renderOutput(dataTable, element);\n",
              "          const docLink = document.createElement('div');\n",
              "          docLink.innerHTML = docLinkHtml;\n",
              "          element.appendChild(docLink);\n",
              "        }\n",
              "      </script>\n",
              "    </div>\n",
              "  </div>\n",
              "  "
            ]
          },
          "metadata": {},
          "execution_count": 29
        }
      ],
      "source": [
        "import pandas as pd\n",
        "from google.colab import drive\n",
        "drive.mount('/content/gdrive')\n",
        "\n",
        "df= pd.read_csv('/content/gdrive/My Drive/test.csv')\n",
        "df = pd.DataFrame(df) \n",
        "df.head()"
      ]
    },
    {
      "cell_type": "code",
      "execution_count": 30,
      "metadata": {
        "id": "2Dymjmxtgc24"
      },
      "outputs": [],
      "source": [
        "dfd = df.drop( ['F1'] , axis=1 )\n",
        "X = dfd.drop( ['target'] , axis = 1 )\n",
        "y = dfd['target']"
      ]
    },
    {
      "cell_type": "code",
      "execution_count": 31,
      "metadata": {
        "id": "Mmdk19Wwgc28"
      },
      "outputs": [],
      "source": [
        "from  sklearn.naive_bayes       import  GaussianNB\n",
        "from  sklearn.neighbors         import  KNeighborsClassifier\n",
        "from  sklearn.ensemble          import  RandomForestClassifier"
      ]
    },
    {
      "cell_type": "code",
      "execution_count": 32,
      "metadata": {
        "id": "SiJzbOFcgc2_"
      },
      "outputs": [],
      "source": [
        "#NB  = GaussianNB()\n",
        "#KNN = KNeighborsClassifier(n_neighbors=9)\n",
        "RF  = RandomForestClassifier(criterion='gini',n_estimators=10 ,max_depth=3,random_state=0)"
      ]
    },
    {
      "cell_type": "code",
      "execution_count": 33,
      "metadata": {
        "id": "UJzdqAMagc3C"
      },
      "outputs": [],
      "source": [
        "from sklearn.model_selection import train_test_split"
      ]
    },
    {
      "cell_type": "code",
      "execution_count": 34,
      "metadata": {
        "id": "fZEio_OXgc3E"
      },
      "outputs": [],
      "source": [
        "Xtrain, Xtest, ytrain, ytest = train_test_split(X, y, test_size=0.3, random_state=0)"
      ]
    },
    {
      "cell_type": "code",
      "execution_count": 35,
      "metadata": {
        "colab": {
          "base_uri": "https://localhost:8080/"
        },
        "id": "3QUr8qsvgc3H",
        "outputId": "95f71f0e-a74e-46a7-c7db-2cb5ab32e4a3"
      },
      "outputs": [
        {
          "output_type": "execute_result",
          "data": {
            "text/plain": [
              "(35, 3)"
            ]
          },
          "metadata": {},
          "execution_count": 35
        }
      ],
      "source": [
        "Xtrain.shape"
      ]
    },
    {
      "cell_type": "code",
      "execution_count": 36,
      "metadata": {
        "colab": {
          "base_uri": "https://localhost:8080/"
        },
        "id": "t5cZbgEZgc3J",
        "outputId": "835b2721-416c-4075-a01e-085d899e7623"
      },
      "outputs": [
        {
          "output_type": "execute_result",
          "data": {
            "text/plain": [
              "(15,)"
            ]
          },
          "metadata": {},
          "execution_count": 36
        }
      ],
      "source": [
        "ytest.shape"
      ]
    },
    {
      "cell_type": "code",
      "execution_count": 37,
      "metadata": {
        "colab": {
          "base_uri": "https://localhost:8080/"
        },
        "id": "Iav5BVO6gc3M",
        "outputId": "f0ce9b7d-7cd9-47b4-9aaa-d53b9fe624cb"
      },
      "outputs": [
        {
          "output_type": "execute_result",
          "data": {
            "text/plain": [
              "28    1\n",
              "11    1\n",
              "10    1\n",
              "41    0\n",
              "2     1\n",
              "27    1\n",
              "38    0\n",
              "31    0\n",
              "22    1\n",
              "4     1\n",
              "33    0\n",
              "35    0\n",
              "26    1\n",
              "34    0\n",
              "18    1\n",
              "Name: target, dtype: int64"
            ]
          },
          "metadata": {},
          "execution_count": 37
        }
      ],
      "source": [
        "ytest"
      ]
    },
    {
      "cell_type": "code",
      "execution_count": 38,
      "metadata": {
        "id": "-mg7RmvLgc3O"
      },
      "outputs": [],
      "source": [
        "from sklearn.preprocessing import StandardScaler  \n",
        "scaler = StandardScaler()  \n",
        "scaler.fit(Xtrain)  \n",
        "Xtrain = scaler.transform(Xtrain)  \n",
        "Xtest  = scaler.transform(Xtest)"
      ]
    },
    {
      "cell_type": "code",
      "execution_count": 39,
      "metadata": {
        "colab": {
          "base_uri": "https://localhost:8080/"
        },
        "id": "fvU2VcsEgc3R",
        "outputId": "b6e5116a-5a54-473b-9c13-ce00ac5d7169"
      },
      "outputs": [
        {
          "output_type": "execute_result",
          "data": {
            "text/plain": [
              "RandomForestClassifier(max_depth=3, n_estimators=10, random_state=0)"
            ]
          },
          "metadata": {},
          "execution_count": 39
        }
      ],
      "source": [
        "#NB.fit (Xtrain , ytrain)\n",
        "#KNN.fit(Xtrain , ytrain)\n",
        "RF.fit (Xtrain , ytrain)"
      ]
    },
    {
      "cell_type": "code",
      "execution_count": 40,
      "metadata": {
        "id": "DeoLQFmpgc3T"
      },
      "outputs": [],
      "source": [
        "#ypNB   = NB.predict(Xtest)\n",
        "#ypKNN  = KNN.predict(Xtest)\n",
        "ypRF   = RF.predict(Xtest)"
      ]
    },
    {
      "cell_type": "code",
      "execution_count": 41,
      "metadata": {
        "id": "BR4Dnlw7gc3W"
      },
      "outputs": [],
      "source": [
        "from  sklearn.metrics   import  classification_report"
      ]
    },
    {
      "cell_type": "code",
      "execution_count": 42,
      "metadata": {
        "colab": {
          "base_uri": "https://localhost:8080/"
        },
        "id": "gQkFgByDgc3Y",
        "outputId": "d673041f-6699-4a55-a947-80681fd57d2a"
      },
      "outputs": [
        {
          "output_type": "stream",
          "name": "stdout",
          "text": [
            "              precision    recall  f1-score   support\n",
            "\n",
            "      CLASS2       0.75      0.50      0.60         6\n",
            "      CLASS1       0.73      0.89      0.80         9\n",
            "\n",
            "    accuracy                           0.73        15\n",
            "   macro avg       0.74      0.69      0.70        15\n",
            "weighted avg       0.74      0.73      0.72        15\n",
            "\n"
          ]
        }
      ],
      "source": [
        "print(classification_report(ytest, ypRF , target_names=['CLASS2', 'CLASS1'] ))"
      ]
    },
    {
      "cell_type": "code",
      "execution_count": 43,
      "metadata": {
        "id": "xQSoiaCHgc3a"
      },
      "outputs": [],
      "source": [
        "from  sklearn.metrics   import  confusion_matrix"
      ]
    },
    {
      "cell_type": "code",
      "execution_count": 44,
      "metadata": {
        "colab": {
          "base_uri": "https://localhost:8080/"
        },
        "id": "9KInRKX9gc3c",
        "outputId": "f9764a9e-3b01-4b9f-8065-18d922b8a7e1"
      },
      "outputs": [
        {
          "output_type": "execute_result",
          "data": {
            "text/plain": [
              "array([[3, 3],\n",
              "       [1, 8]])"
            ]
          },
          "metadata": {},
          "execution_count": 44
        }
      ],
      "source": [
        "confusion_matrix(ytest, ypRF)"
      ]
    },
    {
      "cell_type": "code",
      "execution_count": 45,
      "metadata": {
        "colab": {
          "base_uri": "https://localhost:8080/"
        },
        "id": "Kq56gKYWgc3f",
        "outputId": "3b3a91bf-0b14-4e9a-b9f4-0b6bc02f87a4"
      },
      "outputs": [
        {
          "output_type": "execute_result",
          "data": {
            "text/plain": [
              "1.0"
            ]
          },
          "metadata": {},
          "execution_count": 45
        }
      ],
      "source": [
        "#NB.score (Xtrain , ytrain)  \n",
        "#KNN.score(Xtrain , ytrain)   \n",
        "RF.score (Xtrain , ytrain)"
      ]
    },
    {
      "cell_type": "code",
      "execution_count": 46,
      "metadata": {
        "colab": {
          "base_uri": "https://localhost:8080/"
        },
        "id": "2Wnefyh3gc3h",
        "outputId": "6af89503-b83a-48fa-9cc6-5a482d70ce82"
      },
      "outputs": [
        {
          "output_type": "execute_result",
          "data": {
            "text/plain": [
              "0.7333333333333333"
            ]
          },
          "metadata": {},
          "execution_count": 46
        }
      ],
      "source": [
        "#NB.score (Xtest , ytest)   \n",
        "#KNN.score(Xtest , ytest)  \n",
        "RF.score (Xtest , ytest)"
      ]
    },
    {
      "cell_type": "code",
      "execution_count": 47,
      "metadata": {
        "id": "eFDsI-uSgc3j"
      },
      "outputs": [],
      "source": [
        "import  numpy  as  np"
      ]
    },
    {
      "cell_type": "code",
      "execution_count": 48,
      "metadata": {
        "id": "Pw_1YwxHgc3l"
      },
      "outputs": [],
      "source": [
        "from  sklearn.model_selection   import  cross_val_score"
      ]
    },
    {
      "cell_type": "code",
      "execution_count": 49,
      "metadata": {
        "colab": {
          "base_uri": "https://localhost:8080/"
        },
        "id": "QKLgBVnXgc3n",
        "outputId": "a1207a80-9b01-4a44-8427-7718863ad82d"
      },
      "outputs": [
        {
          "output_type": "execute_result",
          "data": {
            "text/plain": [
              "0.8800000000000001"
            ]
          },
          "metadata": {},
          "execution_count": 49
        }
      ],
      "source": [
        "#np.mean(cross_val_score(NB  , X , y , cv=10))   \n",
        "#np.mean(cross_val_score(KNN , X , y , cv=10))   \n",
        "np.mean(cross_val_score(RF  , X , y , cv=10))   "
      ]
    },
    {
      "cell_type": "code",
      "execution_count": 50,
      "metadata": {
        "id": "X7Et2stWgc3o"
      },
      "outputs": [],
      "source": [
        "from  sklearn.metrics  import  roc_curve, auc\n",
        "from  sklearn.model_selection   import  StratifiedKFold\n",
        "from  scipy  import  interp\n",
        "import  matplotlib.pyplot as plt"
      ]
    },
    {
      "cell_type": "code",
      "execution_count": 52,
      "metadata": {
        "colab": {
          "base_uri": "https://localhost:8080/",
          "height": 523
        },
        "id": "euU0eBEtgc3q",
        "outputId": "60ec4c98-4df9-473c-acb7-af89d2f2ada1"
      },
      "outputs": [
        {
          "output_type": "stream",
          "name": "stderr",
          "text": [
            "/usr/local/lib/python3.7/dist-packages/ipykernel_launcher.py:12: DeprecationWarning: scipy.interp is deprecated and will be removed in SciPy 2.0.0, use numpy.interp instead\n",
            "  if sys.path[0] == '':\n",
            "/usr/local/lib/python3.7/dist-packages/ipykernel_launcher.py:12: DeprecationWarning: scipy.interp is deprecated and will be removed in SciPy 2.0.0, use numpy.interp instead\n",
            "  if sys.path[0] == '':\n",
            "/usr/local/lib/python3.7/dist-packages/ipykernel_launcher.py:12: DeprecationWarning: scipy.interp is deprecated and will be removed in SciPy 2.0.0, use numpy.interp instead\n",
            "  if sys.path[0] == '':\n",
            "/usr/local/lib/python3.7/dist-packages/ipykernel_launcher.py:12: DeprecationWarning: scipy.interp is deprecated and will be removed in SciPy 2.0.0, use numpy.interp instead\n",
            "  if sys.path[0] == '':\n",
            "/usr/local/lib/python3.7/dist-packages/ipykernel_launcher.py:12: DeprecationWarning: scipy.interp is deprecated and will be removed in SciPy 2.0.0, use numpy.interp instead\n",
            "  if sys.path[0] == '':\n",
            "/usr/local/lib/python3.7/dist-packages/ipykernel_launcher.py:12: DeprecationWarning: scipy.interp is deprecated and will be removed in SciPy 2.0.0, use numpy.interp instead\n",
            "  if sys.path[0] == '':\n"
          ]
        },
        {
          "output_type": "display_data",
          "data": {
            "text/plain": [
              "<Figure size 432x288 with 1 Axes>"
            ],
            "image/png": "[encoded data removed]"
          },
          "metadata": {
            "needs_background": "light"
          }
        }
      ],
      "source": [
        "cv = StratifiedKFold(n_splits = 6)\n",
        "\n",
        "tprs = []\n",
        "aucs = []\n",
        "mean_fpr = np.linspace(0, 1, 100)\n",
        "i = 0\n",
        "\n",
        "for train, test in cv.split(X, y):\n",
        "    cf = RF.fit(Xtrain, ytrain)\n",
        "    probas_ = cf.predict_proba(Xtest)\n",
        "    fpr, tpr, thresholds = roc_curve(ytest, probas_[:, 1])\n",
        "    tprs.append(interp(mean_fpr, fpr, tpr))\n",
        "    tprs[-1][0] = 0.0\n",
        "    roc_auc = auc(fpr, tpr)\n",
        "    aucs.append(roc_auc)\n",
        "    i += 1    \n",
        "    \n",
        "            \n",
        "mean_tpr      = np.mean(tprs, axis=0)\n",
        "mean_tpr[-1]  = 1.0\n",
        "mean_auc      = auc(mean_fpr, mean_tpr)\n",
        "std_auc       = np.std(aucs)\n",
        "plt.plot(mean_fpr, mean_tpr, color='cyan',label=r'MLP' ,lw=2, alpha=.8)\n",
        "std_tpr    = np.std(tprs, axis=0)\n",
        "tprs_upper = np.minimum(mean_tpr + std_tpr, 1)\n",
        "tprs_lower = np.maximum(mean_tpr - std_tpr, 0)\n",
        "\n",
        "\n",
        "plt.xlim([-0.05, 1.05])\n",
        "plt.ylim([-0.05, 1.05])\n",
        "\n",
        "plt.xlabel('False Positive Rate')\n",
        "plt.ylabel('True Positive Rate')\n",
        "\n",
        "plt.title('Mean ROC')\n",
        "plt.legend(loc=\"lower right\");"
      ]
    },
    {
      "cell_type": "code",
      "execution_count": 53,
      "metadata": {
        "colab": {
          "base_uri": "https://localhost:8080/"
        },
        "id": "euKRiE8Hgc3w",
        "outputId": "bbde74f6-4149-4696-d020-b7f8b69f84d9"
      },
      "outputs": [
        {
          "output_type": "execute_result",
          "data": {
            "text/plain": [
              "array([[ 10],\n",
              "       [ 12],\n",
              "       [ 13],\n",
              "       [ 86],\n",
              "       [ 10],\n",
              "       [ 17],\n",
              "       [ 18],\n",
              "       [ 20],\n",
              "       [ 80],\n",
              "       [ 19],\n",
              "       [ 15],\n",
              "       [ 75],\n",
              "       [ 30],\n",
              "       [ 14],\n",
              "       [ 16],\n",
              "       [ 18],\n",
              "       [ 67],\n",
              "       [ 12],\n",
              "       [ 11],\n",
              "       [ 13],\n",
              "       [ 16],\n",
              "       [ 17],\n",
              "       [ 11],\n",
              "       [ 10],\n",
              "       [ 20],\n",
              "       [ 15],\n",
              "       [ 16],\n",
              "       [ 17],\n",
              "       [ 12],\n",
              "       [ 18],\n",
              "       [ 80],\n",
              "       [100],\n",
              "       [ 90],\n",
              "       [ 20],\n",
              "       [ 16],\n",
              "       [ 93],\n",
              "       [ 94],\n",
              "       [ 98],\n",
              "       [ 85],\n",
              "       [ 80],\n",
              "       [ 88],\n",
              "       [ 12],\n",
              "       [ 99],\n",
              "       [ 91],\n",
              "       [ 92],\n",
              "       [ 93],\n",
              "       [ 87],\n",
              "       [ 82],\n",
              "       [ 19],\n",
              "       [105]])"
            ]
          },
          "metadata": {},
          "execution_count": 53
        }
      ],
      "source": [
        "from sklearn.feature_selection import SelectKBest\n",
        "from sklearn.feature_selection import chi2\n",
        "Xf = SelectKBest(chi2, k=1).fit_transform(X, y)\n",
        "Xf"
      ]
    },
    {
      "cell_type": "code",
      "execution_count": 54,
      "metadata": {
        "colab": {
          "base_uri": "https://localhost:8080/"
        },
        "id": "DHRID6ohgc3z",
        "outputId": "5a0e622e-add5-4ccd-b309-ac1c38ee14d5"
      },
      "outputs": [
        {
          "output_type": "stream",
          "name": "stderr",
          "text": [
            "/usr/local/lib/python3.7/dist-packages/sklearn/base.py:444: UserWarning: X has feature names, but SelectFromModel was fitted without feature names\n",
            "  f\"X has feature names, but {self.__class__.__name__} was fitted without\"\n"
          ]
        },
        {
          "output_type": "execute_result",
          "data": {
            "text/plain": [
              "array([[ 10,  50],\n",
              "       [ 12, 110],\n",
              "       [ 13,  90],\n",
              "       [ 86,  35],\n",
              "       [ 10,  70],\n",
              "       [ 17,  80],\n",
              "       [ 18,  85],\n",
              "       [ 20,  25],\n",
              "       [ 80,  55],\n",
              "       [ 19,  59],\n",
              "       [ 15,  67],\n",
              "       [ 75,  75],\n",
              "       [ 30,  73],\n",
              "       [ 14,  79],\n",
              "       [ 16,  87],\n",
              "       [ 18,  92],\n",
              "       [ 67,  94],\n",
              "       [ 12, 105],\n",
              "       [ 11,  50],\n",
              "       [ 13,  53],\n",
              "       [ 16,  69],\n",
              "       [ 17,  87],\n",
              "       [ 11,  79],\n",
              "       [ 10,  67],\n",
              "       [ 20,  72],\n",
              "       [ 15,  71],\n",
              "       [ 16,  70],\n",
              "       [ 17,  59],\n",
              "       [ 12,  60],\n",
              "       [ 18,  70],\n",
              "       [ 80,   1],\n",
              "       [100,  40],\n",
              "       [ 90,  52],\n",
              "       [ 20,  34],\n",
              "       [ 16,  42],\n",
              "       [ 93,  14],\n",
              "       [ 94,  16],\n",
              "       [ 98,  24],\n",
              "       [ 85,  43],\n",
              "       [ 80, 140],\n",
              "       [ 88,  38],\n",
              "       [ 12,  29],\n",
              "       [ 99,  39],\n",
              "       [ 91,  18],\n",
              "       [ 92,  16],\n",
              "       [ 93,  12],\n",
              "       [ 87,   5],\n",
              "       [ 82,  38],\n",
              "       [ 19,  30],\n",
              "       [105,  12]])"
            ]
          },
          "metadata": {},
          "execution_count": 54
        }
      ],
      "source": [
        "from sklearn.svm import LinearSVC\n",
        "from sklearn.feature_selection import SelectFromModel\n",
        "lsvc = LinearSVC(C=0.01, penalty=\"l1\", dual=False).fit(X, y)\n",
        "model = SelectFromModel(lsvc, prefit=True) \n",
        "xfs = model.transform(X)\n",
        "xfs"
      ]
    },
    {
      "cell_type": "code",
      "execution_count": 55,
      "metadata": {
        "colab": {
          "base_uri": "https://localhost:8080/"
        },
        "id": "p_PVj-fdgc31",
        "outputId": "5caf3e0b-20b9-456f-f418-1fca4cf77177"
      },
      "outputs": [
        {
          "output_type": "execute_result",
          "data": {
            "text/plain": [
              "array([0.46563257, 0.40924337, 0.12512406])"
            ]
          },
          "metadata": {},
          "execution_count": 55
        }
      ],
      "source": [
        "from sklearn.ensemble import ExtraTreesClassifier\n",
        "from sklearn.feature_selection import SelectFromModel\n",
        "clf = ExtraTreesClassifier(n_estimators=50)\n",
        "clf = clf.fit(X, y)\n",
        "clf.feature_importances_"
      ]
    }
  ],
  "metadata": {
    "kernelspec": {
      "display_name": "Python 3",
      "language": "python",
      "name": "python3"
    },
    "language_info": {
      "codemirror_mode": {
        "name": "ipython",
        "version": 3
      },
      "file_extension": ".py",
      "mimetype": "text/x-python",
      "name": "python",
      "nbconvert_exporter": "python",
      "pygments_lexer": "ipython3",
      "version": "3.7.1"
    },
    "colab": {
      "name": "final2.ipynb",
      "provenance": [],
      "collapsed_sections": [],
      "include_colab_link": true
    }
  },
  "nbformat": 4,
  "nbformat_minor": 0
}