{
  "cells": [
    {
      "cell_type": "markdown",
      "metadata": {
        "id": "view-in-github",
        "colab_type": "text"
      },
      "source": [
        "<a href=\"https://colab.research.google.com/github/Mahikarimib/ML_Supervised/blob/main/Neural_networks_MNIST.ipynb\" target=\"_parent\"><img src=\"https://colab.research.google.com/assets/colab-badge.svg\" alt=\"Open In Colab\"/></a>"
      ]
    },
    {
      "cell_type": "markdown",
      "metadata": {
        "id": "CCVRL1NiyodO"
      },
      "source": [
        "![image.png](attachment:image.png)"
      ]
    },
    {
      "cell_type": "code",
      "execution_count": null,
      "metadata": {
        "id": "SoSh1w7pyodp"
      },
      "outputs": [],
      "source": [
        "from sklearn.neural_network import MLPClassifier\n",
        "import matplotlib.pyplot as plt\n",
        "from sklearn.model_selection import train_test_split"
      ]
    },
    {
      "cell_type": "code",
      "execution_count": null,
      "metadata": {
        "id": "ZmGbOyWmyod0"
      },
      "outputs": [],
      "source": [
        "X,Y = pd.read_csv(\"D:/dataset1/T1059/MACHINELEARN/6/code-6/Mnist.csv\")"
      ]
    },
    {
      "cell_type": "code",
      "execution_count": null,
      "metadata": {
        "id": "JTRzfOFUyod3",
        "outputId": "6a49b002-286b-4194-c902-7271bf87b621"
      },
      "outputs": [
        {
          "data": {
            "text/plain": [
              "(70000, 784)"
            ]
          },
          "execution_count": 3,
          "metadata": {},
          "output_type": "execute_result"
        }
      ],
      "source": [
        "X.shape"
      ]
    },
    {
      "cell_type": "code",
      "execution_count": null,
      "metadata": {
        "id": "7yrtDIbYyod-",
        "outputId": "f825c7be-135a-4133-8741-7f7a1be89be1"
      },
      "outputs": [
        {
          "data": {
            "text/plain": [
              "array(['5', '0', '4', ..., '4', '5', '6'], dtype=object)"
            ]
          },
          "execution_count": 5,
          "metadata": {},
          "output_type": "execute_result"
        }
      ],
      "source": [
        "y"
      ]
    },
    {
      "cell_type": "code",
      "execution_count": null,
      "metadata": {
        "id": "7mYlT2JxyoeE"
      },
      "outputs": [],
      "source": [
        "x_train, x_test, y_train, y_test = train_test_split(X,Y, test_size=0.3, random_state=1)"
      ]
    },
    {
      "cell_type": "code",
      "execution_count": null,
      "metadata": {
        "id": "tp5w9b-IyoeH"
      },
      "outputs": [],
      "source": [
        "model = MLPClassifier(hidden_layer_sizes=(50,) , max_iter=100 , alpha=1e-4,solver='sgd', random_state=1 \n",
        "                      , learning_rate_init=.1 , verbose=10 , tol=1e-4)"
      ]
    },
    {
      "cell_type": "code",
      "execution_count": null,
      "metadata": {
        "id": "JkqiL6BNyoeL",
        "outputId": "f87850fe-b8d7-45d6-d83a-99a98e13e44f"
      },
      "outputs": [
        {
          "name": "stdout",
          "output_type": "stream",
          "text": [
            "Iteration 1, loss = 0.32009978\n",
            "Iteration 2, loss = 0.15347534\n",
            "Iteration 3, loss = 0.11544755\n",
            "Iteration 4, loss = 0.09279764\n",
            "Iteration 5, loss = 0.07889367\n",
            "Iteration 6, loss = 0.07170497\n",
            "Iteration 7, loss = 0.06282111\n",
            "Iteration 8, loss = 0.05529723\n",
            "Iteration 9, loss = 0.04960484\n",
            "Iteration 10, loss = 0.04645355\n",
            "Iteration 11, loss = 0.04081494\n",
            "Iteration 12, loss = 0.03828222\n",
            "Iteration 13, loss = 0.03557957\n",
            "Iteration 14, loss = 0.03054891\n",
            "Iteration 15, loss = 0.02924761\n",
            "Iteration 16, loss = 0.02610471\n",
            "Iteration 17, loss = 0.02363894\n",
            "Iteration 18, loss = 0.02208186\n",
            "Iteration 19, loss = 0.01932900\n",
            "Iteration 20, loss = 0.01830387\n",
            "Iteration 21, loss = 0.01639227\n",
            "Iteration 22, loss = 0.01392950\n",
            "Iteration 23, loss = 0.01270193\n",
            "Iteration 24, loss = 0.01234102\n",
            "Iteration 25, loss = 0.01081313\n",
            "Iteration 26, loss = 0.01028644\n",
            "Iteration 27, loss = 0.00896707\n",
            "Iteration 28, loss = 0.00744908\n",
            "Iteration 29, loss = 0.00707946\n",
            "Iteration 30, loss = 0.00573869\n",
            "Iteration 31, loss = 0.00499554\n",
            "Iteration 32, loss = 0.00477064\n",
            "Iteration 33, loss = 0.00395458\n",
            "Iteration 34, loss = 0.00355619\n",
            "Iteration 35, loss = 0.00375497\n",
            "Iteration 36, loss = 0.00304228\n",
            "Iteration 37, loss = 0.00264245\n",
            "Iteration 38, loss = 0.00241425\n",
            "Iteration 39, loss = 0.00234957\n",
            "Iteration 40, loss = 0.00233803\n",
            "Iteration 41, loss = 0.00204653\n",
            "Iteration 42, loss = 0.00199057\n",
            "Iteration 43, loss = 0.00190567\n",
            "Iteration 44, loss = 0.00180530\n",
            "Iteration 45, loss = 0.00175054\n",
            "Iteration 46, loss = 0.00168160\n",
            "Iteration 47, loss = 0.00162517\n",
            "Iteration 48, loss = 0.00159676\n",
            "Iteration 49, loss = 0.00154993\n",
            "Iteration 50, loss = 0.00152799\n",
            "Iteration 51, loss = 0.00146697\n",
            "Iteration 52, loss = 0.00145257\n",
            "Iteration 53, loss = 0.00143422\n",
            "Iteration 54, loss = 0.00135888\n",
            "Iteration 55, loss = 0.00134281\n",
            "Training loss did not improve more than tol=0.000100 for 10 consecutive epochs. Stopping.\n"
          ]
        },
        {
          "data": {
            "text/plain": [
              "MLPClassifier(activation='relu', alpha=0.0001, batch_size='auto', beta_1=0.9,\n",
              "       beta_2=0.999, early_stopping=False, epsilon=1e-08,\n",
              "       hidden_layer_sizes=(50,), learning_rate='constant',\n",
              "       learning_rate_init=0.1, max_iter=100, momentum=0.9,\n",
              "       n_iter_no_change=10, nesterovs_momentum=True, power_t=0.5,\n",
              "       random_state=1, shuffle=True, solver='sgd', tol=0.0001,\n",
              "       validation_fraction=0.1, verbose=10, warm_start=False)"
            ]
          },
          "execution_count": 9,
          "metadata": {},
          "output_type": "execute_result"
        }
      ],
      "source": [
        "model.fit(X_train, y_train)"
      ]
    },
    {
      "cell_type": "code",
      "execution_count": null,
      "metadata": {
        "id": "o2loL2XryoeP",
        "outputId": "c108bae6-f130-46ea-b7ed-b0b61ead6f32"
      },
      "outputs": [
        {
          "data": {
            "text/plain": [
              "1.0"
            ]
          },
          "execution_count": 10,
          "metadata": {},
          "output_type": "execute_result"
        }
      ],
      "source": [
        "model.score(X_train, y_train)"
      ]
    },
    {
      "cell_type": "code",
      "source": [
        "ypred = model.predict(x_test)"
      ],
      "metadata": {
        "id": "PBiw3Hum4kKC"
      },
      "execution_count": null,
      "outputs": []
    },
    {
      "cell_type": "code",
      "execution_count": null,
      "metadata": {
        "id": "ZX3Slx7xyoeT",
        "outputId": "b0b3a2d3-24db-4ea1-9c87-fff8b85324d0"
      },
      "outputs": [
        {
          "data": {
            "text/plain": [
              "0.9731"
            ]
          },
          "execution_count": 11,
          "metadata": {},
          "output_type": "execute_result"
        }
      ],
      "source": [
        "model.score(X_test, y_test)"
      ]
    },
    {
      "cell_type": "code",
      "execution_count": null,
      "metadata": {
        "id": "fgYv8hXRyoeb"
      },
      "outputs": [],
      "source": []
    }
  ],
  "metadata": {
    "kernelspec": {
      "display_name": "Python 3",
      "language": "python",
      "name": "python3"
    },
    "language_info": {
      "codemirror_mode": {
        "name": "ipython",
        "version": 3
      },
      "file_extension": ".py",
      "mimetype": "text/x-python",
      "name": "python",
      "nbconvert_exporter": "python",
      "pygments_lexer": "ipython3",
      "version": "3.7.1"
    },
    "colab": {
      "name": "Neural networks-MNIST.ipynb",
      "provenance": [],
      "collapsed_sections": [],
      "include_colab_link": true
    }
  },
  "nbformat": 4,
  "nbformat_minor": 0
}